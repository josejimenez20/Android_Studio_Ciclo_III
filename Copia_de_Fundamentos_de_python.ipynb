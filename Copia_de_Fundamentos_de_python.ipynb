{
  "nbformat": 4,
  "nbformat_minor": 0,
  "metadata": {
    "colab": {
      "provenance": [],
      "authorship_tag": "ABX9TyMkno0WShMvNb0lED9CrlNp",
      "include_colab_link": true
    },
    "kernelspec": {
      "name": "python3",
      "display_name": "Python 3"
    },
    "language_info": {
      "name": "python"
    }
  },
  "cells": [
    {
      "cell_type": "markdown",
      "metadata": {
        "id": "view-in-github",
        "colab_type": "text"
      },
      "source": [
        "<a href=\"https://colab.research.google.com/github/josejimenez20/Android_Studio_Ciclo_III/blob/main/Copia_de_Fundamentos_de_python.ipynb\" target=\"_parent\"><img src=\"https://colab.research.google.com/assets/colab-badge.svg\" alt=\"Open In Colab\"/></a>"
      ]
    },
    {
      "cell_type": "code",
      "execution_count": null,
      "metadata": {
        "colab": {
          "base_uri": "https://localhost:8080/"
        },
        "collapsed": true,
        "id": "k9kNAAsY5NW-",
        "outputId": "f82a0b29-97da-4586-9a9b-4d078f2fc754"
      },
      "outputs": [
        {
          "output_type": "stream",
          "name": "stdout",
          "text": [
            "Hola Mundo\n",
            "Hola  Jose Jimenez , inicial:  J J\n"
          ]
        }
      ],
      "source": [
        "print(\"Hola Mundo\")\n",
        "Nombre = \"Jose Jimenez\"\n",
        "\n",
        "\n",
        "print(\"Hola \", Nombre, \", inicial: \", Nombre[0], Nombre[5])"
      ]
    },
    {
      "cell_type": "markdown",
      "source": [
        "EJERCICIO, crear un programa en python que sume dos numeros"
      ],
      "metadata": {
        "id": "44_ljq_V9wRG"
      }
    },
    {
      "cell_type": "code",
      "source": [
        "num1 = 5\n",
        "num2 = 9.5\n",
        "resp = num1 + num2\n",
        "print(\"la suma es:\", resp)\n"
      ],
      "metadata": {
        "colab": {
          "base_uri": "https://localhost:8080/"
        },
        "collapsed": true,
        "id": "BSCZbvt29-QY",
        "outputId": "5dbaddbb-30e1-4349-aa1a-3355ddebf446"
      },
      "execution_count": null,
      "outputs": [
        {
          "output_type": "stream",
          "name": "stdout",
          "text": [
            "la suma es: 14.5\n"
          ]
        }
      ]
    },
    {
      "cell_type": "markdown",
      "source": [],
      "metadata": {
        "id": "BBn-VkFV9wNt"
      }
    },
    {
      "cell_type": "markdown",
      "source": [
        "EJERCICIO, Crear un programa en python que sume dos numeros introducidos por el usuario"
      ],
      "metadata": {
        "id": "8R2mH-dM_i2H"
      }
    },
    {
      "cell_type": "code",
      "source": [
        "print(\"Num1\")\n",
        "Num1 = float(input())\n",
        "\n",
        "print(\"Num2\")\n",
        "Num2 = float(input())\n",
        "\n",
        "resp = Num1 + Num2\n",
        "print(\"la suma es:\", resp)\n"
      ],
      "metadata": {
        "colab": {
          "base_uri": "https://localhost:8080/"
        },
        "collapsed": true,
        "id": "VXcYAQ84_5CA",
        "outputId": "7c84a128-17b3-4a6a-ecc7-13b9bfd9e3af"
      },
      "execution_count": null,
      "outputs": [
        {
          "output_type": "stream",
          "name": "stdout",
          "text": [
            "Num1\n",
            "10\n",
            "Num2\n",
            "10\n",
            "la suma es: 20.0\n"
          ]
        }
      ]
    },
    {
      "cell_type": "code",
      "source": [
        "#Tipos de datos\n",
        "num1 = 5\n",
        "num2 = 5.9\n",
        "nombre = \"Jose Jimenez\"\n",
        "print(nombre[0:4], nombre[:4], nombre[-1], nombre[5:], nombre[5:len(nombre)])\n",
        "\n",
        "estado = True\n",
        "print(estado)\n",
        "\n",
        "print(type(nombre), type(num1), type(num2), type(estado))\n"
      ],
      "metadata": {
        "colab": {
          "base_uri": "https://localhost:8080/"
        },
        "collapsed": true,
        "id": "8W8fyP3EC29r",
        "outputId": "cc57b1de-fbd3-4067-e181-a3c9516ac676"
      },
      "execution_count": null,
      "outputs": [
        {
          "output_type": "stream",
          "name": "stdout",
          "text": [
            "Jose Jose z Jimenez Jimenez\n",
            "True\n",
            "<class 'str'> <class 'int'> <class 'float'> <class 'bool'>\n"
          ]
        }
      ]
    },
    {
      "cell_type": "markdown",
      "source": [
        "EJERCICIO, cree un programa en python que lea un numero y dertermine si es par o impar"
      ],
      "metadata": {
        "id": "0p0Xz6wLEy1R"
      }
    },
    {
      "cell_type": "code",
      "source": [
        "num = int(input(\"Ingrese un numero: \"))\n",
        "if num % 2 == 0:\n",
        "    print(\"El numero es par\" , num)\n",
        "else:\n",
        "    print(\"El numero es impar\")"
      ],
      "metadata": {
        "colab": {
          "base_uri": "https://localhost:8080/"
        },
        "collapsed": true,
        "id": "0j4ljacIFGo-",
        "outputId": "5ce81487-9a25-47be-a14f-5783d853d67c"
      },
      "execution_count": null,
      "outputs": [
        {
          "output_type": "stream",
          "name": "stdout",
          "text": [
            "Ingrese un numero: 5\n",
            "El numero es impar\n"
          ]
        }
      ]
    },
    {
      "cell_type": "markdown",
      "source": [
        "EJERCICIO: Uso de las funciones de usuario, con la suma de dos numeros."
      ],
      "metadata": {
        "id": "3O5iadWIjS1H"
      }
    },
    {
      "cell_type": "code",
      "source": [
        "def suma(num1, num2):\n",
        "    return num1 + num2\n",
        "\n",
        "num1 = float(input(\"Num 1: \"))\n",
        "num2 = float(input(\"Num 2: \"))\n",
        "resp = suma(num1, num2)\n",
        "print(\"La suma es: \", resp)\n"
      ],
      "metadata": {
        "id": "sH6B5vi4a3MU",
        "collapsed": true,
        "colab": {
          "base_uri": "https://localhost:8080/"
        },
        "outputId": "34b82dbe-d2d2-4807-f56b-8a65a9517649"
      },
      "execution_count": null,
      "outputs": [
        {
          "output_type": "stream",
          "name": "stdout",
          "text": [
            "Num 1: 1\n",
            "Num 2: 1\n",
            "La suma es:  2.0\n"
          ]
        }
      ]
    },
    {
      "cell_type": "markdown",
      "source": [
        "EJERCICIO: Coonvertir grados celsius a farenheit, usando funciones de usuario."
      ],
      "metadata": {
        "id": "IL81eFXmm223"
      }
    },
    {
      "cell_type": "code",
      "source": [
        "def convertir_cf(c):\n",
        "    return c * 1.8 + 32\n",
        "\n",
        "c = float(input(\"Celsius: \"))\n",
        "print(\"F: \", convertir_cf(c))\n"
      ],
      "metadata": {
        "colab": {
          "base_uri": "https://localhost:8080/"
        },
        "id": "GYnD7YBam3qd",
        "outputId": "0c5a32e4-1d5f-412f-ed9e-8f8a62ae5193"
      },
      "execution_count": null,
      "outputs": [
        {
          "output_type": "stream",
          "name": "stdout",
          "text": [
            "Celsius: 5\n",
            "F:  41.0\n"
          ]
        }
      ]
    },
    {
      "cell_type": "markdown",
      "source": [
        "EJERCICIO: Determina si un numero es par o impar"
      ],
      "metadata": {
        "id": "Mu1Wae3om_F0"
      }
    },
    {
      "cell_type": "code",
      "source": [
        "def parImpar(num):\n",
        "    if num % 2 == 0:\n",
        "        return \"par\"\n",
        "    return \"impar\"\n",
        "\n",
        "num = int(input(\"Num: \"))\n",
        "print(\"El número\", num, \"es:\", parImpar(num))\n"
      ],
      "metadata": {
        "colab": {
          "base_uri": "https://localhost:8080/"
        },
        "id": "1VHRNZOxnAu3",
        "outputId": "8eb3e106-6da2-4298-e4e1-eb495191884b"
      },
      "execution_count": null,
      "outputs": [
        {
          "output_type": "stream",
          "name": "stdout",
          "text": [
            "Num: 7\n",
            "El número 7 es: impar\n"
          ]
        }
      ]
    },
    {
      "cell_type": "markdown",
      "source": [
        "Tarea para MIERCOLES\n",
        "Convertir grados Fahrenheit a Celsius"
      ],
      "metadata": {
        "id": "OjXhHu244X2I"
      }
    },
    {
      "cell_type": "code",
      "source": [
        "def convertir_fc(f):\n",
        "    return (f - 32) / 1.8\n",
        "\n",
        "f = float(input(\"Fahrenheit: \"))\n",
        "print(\"Celsius: \", convertir_fc(f))\n"
      ],
      "metadata": {
        "colab": {
          "base_uri": "https://localhost:8080/"
        },
        "id": "cv3YQKQi408j",
        "outputId": "c0bf3fa3-353b-464f-b844-8163c06b2175"
      },
      "execution_count": null,
      "outputs": [
        {
          "output_type": "stream",
          "name": "stdout",
          "text": [
            "Fahrenheit: 1\n",
            "Celsius:  -17.22222222222222\n"
          ]
        }
      ]
    },
    {
      "cell_type": "markdown",
      "source": [
        "Convertir grados [Celsius y Fahrenheit] a Kelvin"
      ],
      "metadata": {
        "id": "0daMwIDX5Rqg"
      }
    },
    {
      "cell_type": "code",
      "source": [
        "# Función para convertir grados Fahrenheit a Celsius\n",
        "def convertir_fc(f):\n",
        "    return (f - 32) / 1.8\n",
        "\n",
        "# Función para convertir grados Celsius a Kelvin\n",
        "def convertir_ck(c):\n",
        "    return c + 273.15\n",
        "\n",
        "# Función para convertir grados Fahrenheit a Kelvin\n",
        "def convertir_fk(f):\n",
        "    return (f - 32) / 1.8 + 273.15\n",
        "\n",
        "# Solicitar al usuario ingresar grados Fahrenheit y Celsius\n",
        "f = float(input(\"Ingrese grados Fahrenheit: \"))\n",
        "c = float(input(\"Ingrese grados Celsius: \"))\n",
        "\n",
        "# Convertir y mostrar los resultados\n",
        "print(\"Celsius desde Fahrenheit: \", convertir_fc(f))\n",
        "print(\"Kelvin desde Celsius: \", convertir_ck(c))\n",
        "print(\"Kelvin desde Fahrenheit: \", convertir_fk(f))\n"
      ],
      "metadata": {
        "id": "2vBv3M2T60Kp",
        "outputId": "c0a38f89-36a4-4b8b-f06b-5f6de35ac576",
        "colab": {
          "base_uri": "https://localhost:8080/"
        }
      },
      "execution_count": null,
      "outputs": [
        {
          "output_type": "stream",
          "name": "stdout",
          "text": [
            "Ingrese grados Fahrenheit: 1\n",
            "Ingrese grados Celsius: 1\n",
            "Celsius desde Fahrenheit:  -17.22222222222222\n",
            "Kelvin desde Celsius:  274.15\n",
            "Kelvin desde Fahrenheit:  255.92777777777775\n"
          ]
        }
      ]
    },
    {
      "cell_type": "markdown",
      "source": [
        "EJERCICIO: Calcular el sueldo de un trabajador"
      ],
      "metadata": {
        "id": "GZzYvj795gL2"
      }
    },
    {
      "cell_type": "code",
      "source": [
        "def sueldo(numHrs, valorXHrs):\n",
        "    sueldo = numHrs * valorXHrs * 30\n",
        "    if numHrs > 8:\n",
        "        sueldo = sueldo + (numHrs - 8) * valorXHrs * 30 * 0.5\n",
        "    return sueldo\n",
        "\n",
        "numHrs = int(input(\"Horas: \"))\n",
        "valorXHrs = float(input(\"Valor: \"))\n",
        "print(\"Sueldo: \", sueldo(numHrs, valorXHrs))\n"
      ],
      "metadata": {
        "colab": {
          "base_uri": "https://localhost:8080/"
        },
        "id": "cxpCi6EO5i8o",
        "outputId": "3902d2f1-71f4-4e8f-9baa-3f34726aa12a"
      },
      "execution_count": null,
      "outputs": [
        {
          "output_type": "stream",
          "name": "stdout",
          "text": [
            "Horas: 15\n",
            "Valor: 5\n",
            "Sueldo:  2775.0\n"
          ]
        }
      ]
    },
    {
      "cell_type": "markdown",
      "source": [
        "Ejercicio: Elevar un numero al cuadro"
      ],
      "metadata": {
        "id": "lm1RcTgZ7Guk"
      }
    },
    {
      "cell_type": "code",
      "source": [
        "def elevarCuadrado(base,exponente):\n",
        "  return base**exponente"
      ],
      "metadata": {
        "id": "WpGYC5zc8JpE"
      },
      "execution_count": null,
      "outputs": []
    },
    {
      "cell_type": "code",
      "source": [
        "def elevarCuadrado(base, exponente):\n",
        "    return base**exponente\n",
        "\n",
        "num = int(input(\"Num: \"))\n",
        "print(\"Cuadrado: \", elevarCuadrado(num, 3))\n"
      ],
      "metadata": {
        "colab": {
          "base_uri": "https://localhost:8080/"
        },
        "id": "W2JkA0I-7Ph3",
        "outputId": "32888ff2-d1d7-425b-f157-3e35e9ab1996"
      },
      "execution_count": null,
      "outputs": [
        {
          "output_type": "stream",
          "name": "stdout",
          "text": [
            "Num: 3\n",
            "Cuadrado:  27\n"
          ]
        }
      ]
    },
    {
      "cell_type": "markdown",
      "source": [
        "Usando funciones lambra"
      ],
      "metadata": {
        "id": "kxDYzbN19hSs"
      }
    },
    {
      "cell_type": "code",
      "source": [
        "elevarCuadradoLambda = lambda base, exponente: base**exponente"
      ],
      "metadata": {
        "id": "9VjIfqOa9nS4"
      },
      "execution_count": null,
      "outputs": []
    },
    {
      "cell_type": "code",
      "source": [
        "valor = int(input(\"Num:\"))\n",
        "print(\"Cuadrado: \", elevarCuadradoLambda(valor, 2))"
      ],
      "metadata": {
        "colab": {
          "base_uri": "https://localhost:8080/"
        },
        "id": "KgExgce29-AR",
        "outputId": "d7cf9275-d92e-4856-ad2c-51a8ab3d3780"
      },
      "execution_count": null,
      "outputs": [
        {
          "output_type": "stream",
          "name": "stdout",
          "text": [
            "Num:3\n",
            "Cuadrado:  9\n"
          ]
        }
      ]
    },
    {
      "cell_type": "code",
      "source": [
        "serie = [5,4,2,6,7]\n",
        "resp = map(lambda x: x**2, serie)\n",
        "print(list(resp))"
      ],
      "metadata": {
        "colab": {
          "base_uri": "https://localhost:8080/"
        },
        "id": "4oRZv51N_z5n",
        "outputId": "529f20de-65b3-4fa4-8aa5-dd77c90d671c"
      },
      "execution_count": null,
      "outputs": [
        {
          "output_type": "stream",
          "name": "stdout",
          "text": [
            "[25, 16, 4, 36, 49]\n"
          ]
        }
      ]
    },
    {
      "cell_type": "markdown",
      "source": [
        "EJERCICIO: Obtener la raiz cuadrada de una serie de numeros"
      ],
      "metadata": {
        "id": "B9ydAVixC1db"
      }
    },
    {
      "cell_type": "code",
      "source": [
        "import math\n",
        "def obtenerRaizCuadrada(lista_numeros):\n",
        "    return [math.sqrt(num) for num in lista_numeros]\n",
        "\n",
        "numeros = input(\"Introduce una serie de números separados por comas: \")\n",
        "numeros_lista = [float(num) for num in numeros.split(\",\")]\n",
        "\n",
        "raices = obtenerRaizCuadrada(numeros_lista)\n",
        "print(\"Las raíces cuadradas son: \", raices)\n"
      ],
      "metadata": {
        "colab": {
          "base_uri": "https://localhost:8080/"
        },
        "id": "3mUsY2T1DKvE",
        "outputId": "23f7eb41-357e-45fb-caba-24423b5b7a83"
      },
      "execution_count": null,
      "outputs": [
        {
          "output_type": "stream",
          "name": "stdout",
          "text": [
            "Introduce una serie de números separados por comas: 5,6,8,4,7,1,2,3\n",
            "Las raíces cuadradas son:  [2.23606797749979, 2.449489742783178, 2.8284271247461903, 2.0, 2.6457513110645907, 1.0, 1.4142135623730951, 1.7320508075688772]\n"
          ]
        }
      ]
    },
    {
      "cell_type": "markdown",
      "source": [
        "Ejercicio 1: Calcular deducciones sobre el sueldo\n",
        "Calcule las deducciones de ISSS (3%), AFP (6.25%), e ISR."
      ],
      "metadata": {
        "id": "8NE9Zw_lDDCM"
      }
    },
    {
      "cell_type": "code",
      "source": [
        "sueldo_a = float(input(\"Ingrese el sueldo: \"))\n",
        "\n",
        "ISSS = sueldo_a * 0.03\n",
        "AFP = sueldo_a * 0.0625\n",
        "ISR = sueldo_a * 0.00\n",
        "\n",
        "total_deducciones = ISSS + AFP + ISR\n",
        "\n",
        "sueldo_b = sueldo_a - total_deducciones\n",
        "\n",
        "print(f\"ISSS: ${ISSS:.2f}\")\n",
        "print(f\"AFP: ${AFP:.2f}\")\n",
        "print(f\"ISR: ${ISR:.2f}\")\n",
        "print(f\"Total deducciones: ${total_deducciones:.2f}\")\n",
        "print(f\"Sueldo: ${sueldo_b:.2f}\")\n"
      ],
      "metadata": {
        "colab": {
          "base_uri": "https://localhost:8080/"
        },
        "id": "lZ5MbvAkDL86",
        "outputId": "f8df2da9-6bb6-4fb3-db9e-b4d537073c37"
      },
      "execution_count": null,
      "outputs": [
        {
          "output_type": "stream",
          "name": "stdout",
          "text": [
            "Ingrese el sueldo: 500\n",
            "ISSS: $15.00\n",
            "AFP: $31.25\n",
            "ISR: $0.00\n",
            "Total deducciones: $46.25\n",
            "Sueldo: $453.75\n"
          ]
        }
      ]
    },
    {
      "cell_type": "markdown",
      "source": [
        "Ejercicio 2: Calcular el valor a pagar según los metros consumidos de agua potable."
      ],
      "metadata": {
        "id": "FZV8iDY-GSWc"
      }
    },
    {
      "cell_type": "code",
      "source": [
        "def calcular_valor_agua(metros_consumidos):\n",
        "    if metros_consumidos <= 18:\n",
        "        return 6\n",
        "    elif 19 <= metros_consumidos <= 28:\n",
        "        exceso = metros_consumidos - 18\n",
        "        return 6 + (exceso * 0.45)\n",
        "    else:\n",
        "        exceso = metros_consumidos - 28\n",
        "        return 6 + (10 * 0.45) + (exceso * 0.65)\n",
        "\n",
        "\n",
        "metros_consumidos = int(input(\"Ingrese el número de los metros consumidos: \"))\n",
        "valor_a_pagar = calcular_valor_agua(metros_consumidos)\n",
        "print(f\"Valor a pagar: ${valor_a_pagar:.2f}\")\n"
      ],
      "metadata": {
        "colab": {
          "base_uri": "https://localhost:8080/"
        },
        "id": "9DWDXHk3GTuj",
        "outputId": "b898bec7-56a6-46b6-cf9c-3c10093d49e6"
      },
      "execution_count": null,
      "outputs": [
        {
          "output_type": "stream",
          "name": "stdout",
          "text": [
            "Ingrese el número de los metros consumidos: 5\n",
            "Valor a pagar: $6.00\n"
          ]
        }
      ]
    },
    {
      "cell_type": "markdown",
      "source": [
        "Ejercicio 3: Desarrollar la tabla de meses acumulados"
      ],
      "metadata": {
        "id": "Nf7l15WRGf2c"
      }
    },
    {
      "cell_type": "code",
      "source": [
        "def calcular_acumulacion(meses):\n",
        "    acumulacion = 0\n",
        "    for i in range(1, meses + 1):\n",
        "        acumulacion += i\n",
        "    return acumulacion\n",
        "\n",
        "meses = int(input(\"Ingrese el número de meses: \"))\n",
        "resultado = calcular_acumulacion(meses)\n",
        "print(f\"Acumulación de {meses} meses: {resultado}\")\n"
      ],
      "metadata": {
        "colab": {
          "base_uri": "https://localhost:8080/"
        },
        "id": "bfy8EotwGguK",
        "outputId": "4f6c356f-8d1a-4ab6-e953-964663718662"
      },
      "execution_count": null,
      "outputs": [
        {
          "output_type": "stream",
          "name": "stdout",
          "text": [
            "Ingrese el número de meses: 3\n",
            "Acumulación de 3 meses: 6\n"
          ]
        }
      ]
    },
    {
      "cell_type": "markdown",
      "source": [
        "Ejercicio 5: Creación de un conversor propio"
      ],
      "metadata": {
        "id": "lyY2qMM0lFqm"
      }
    },
    {
      "cell_type": "code",
      "source": [
        "def convertir_cajas_unidades(cajas):\n",
        "    return cajas * 25\n",
        "\n",
        "def convertir_unidades_cajas(unidades):\n",
        "    return unidades / 25\n",
        "\n",
        "def convertir_sacos_libras(sacos):\n",
        "    return sacos * 50\n",
        "\n",
        "def convertir_libras_sacos(libras):\n",
        "    return libras / 50\n",
        "\n",
        "def convertir_fardos_unidades(fardos):\n",
        "    return fardos * 5\n",
        "\n",
        "def convertir_unidades_fardos(unidades):\n",
        "    return unidades / 5\n",
        "def conversor():\n",
        "    print(\"Seleccione la conversión que desea realizar:\")\n",
        "    print(\"1: Cajas a Unidades\")\n",
        "    print(\"2: Unidades a Cajas\")\n",
        "    print(\"3: Sacos a Libras\")\n",
        "    print(\"4: Libras a Sacos\")\n",
        "    print(\"5: Fardos a Unidades\")\n",
        "    print(\"6: Unidades a Fardos\")\n",
        "\n",
        "    opcion = int(input(\"Ingrese el número de la opción deseada: \"))\n",
        "\n",
        "    if opcion == 1:\n",
        "        cajas = float(input(\"Ingrese el número de cajas: \"))\n",
        "        print(f\"{cajas} cajas son {convertir_cajas_unidades(cajas)} unidades.\")\n",
        "    elif opcion == 2:\n",
        "        unidades = float(input(\"Ingrese el número de unidades: \"))\n",
        "        print(f\"{unidades} unidades son {convertir_unidades_cajas(unidades)} cajas.\")\n",
        "    elif opcion == 3:\n",
        "        sacos = float(input(\"Ingrese el número de sacos: \"))\n",
        "        print(f\"{sacos} sacos son {convertir_sacos_libras(sacos)} libras.\")\n",
        "    elif opcion == 4:\n",
        "        libras = float(input(\"Ingrese el número de libras: \"))\n",
        "        print(f\"{libras} libras son {convertir_libras_sacos(libras)} sacos.\")\n",
        "    elif opcion == 5:\n",
        "        fardos = float(input(\"Ingrese el número de fardos: \"))\n",
        "        print(f\"{fardos} fardos son {convertir_fardos_unidades(fardos)} unidades.\")\n",
        "    elif opcion == 6:\n",
        "        unidades = float(input(\"Ingrese el número de unidades: \"))\n",
        "        print(f\"{unidades} unidades son {convertir_unidades_fardos(unidades)} fardos.\")\n",
        "    else:\n",
        "        print(\"Opción no válida\")\n",
        "\n",
        "conversor()\n"
      ],
      "metadata": {
        "colab": {
          "base_uri": "https://localhost:8080/"
        },
        "id": "iW5ExfoOlGpg",
        "outputId": "a1bcf76f-46ec-4c4a-bfc2-fef4bc8912cb"
      },
      "execution_count": null,
      "outputs": [
        {
          "output_type": "stream",
          "name": "stdout",
          "text": [
            "Seleccione la conversión que desea realizar:\n",
            "1: Cajas a Unidades\n",
            "2: Unidades a Cajas\n",
            "3: Sacos a Libras\n",
            "4: Libras a Sacos\n",
            "5: Fardos a Unidades\n",
            "6: Unidades a Fardos\n",
            "Ingrese el número de la opción deseada: 1\n",
            "Ingrese el número de cajas: 25\n",
            "25.0 cajas son 625.0 unidades.\n"
          ]
        }
      ]
    },
    {
      "cell_type": "markdown",
      "source": [
        "Realizar: (10 items como minimo por cada uno)\n",
        "Longuitud, masa, almacenamiento, tiempo, Volumen, area, Manzanas, tareas."
      ],
      "metadata": {
        "id": "W3imfTJR0fpD"
      }
    },
    {
      "cell_type": "code",
      "source": [
        "# Funciones de conversión para Longitud\n",
        "def convertir_longitud(valor, unidad_origen, unidad_destino):\n",
        "    conversiones = {\n",
        "        'm': 1,\n",
        "        'cm': 100,\n",
        "        'mm': 1000,\n",
        "        'km': 0.001,\n",
        "        'in': 39.3701,\n",
        "        'ft': 3.28084,\n",
        "        'yd': 1.09361,\n",
        "        'mi': 0.000621371,\n",
        "        'nm': 1000000000,\n",
        "        'nmi': 0.000539957\n",
        "    }\n",
        "    metros = valor / conversiones[unidad_origen]\n",
        "    return metros * conversiones[unidad_destino]\n",
        "\n",
        "# Funciones de conversión para Masa\n",
        "def convertir_masa(valor, unidad_origen, unidad_destino):\n",
        "    conversiones = {\n",
        "        'g': 1,\n",
        "        'kg': 0.001,\n",
        "        'mg': 1000,\n",
        "        't': 0.000001,\n",
        "        'lb': 0.00220462,\n",
        "        'oz': 0.035274,\n",
        "        'q': 0.00001,\n",
        "        'µg': 1000000,\n",
        "        'st': 0.000157473,\n",
        "        'dal': 0.001\n",
        "    }\n",
        "    gramos = valor / conversiones[unidad_origen]\n",
        "    return gramos * conversiones[unidad_destino]\n",
        "\n",
        "# Funciones de conversión para Almacenamiento\n",
        "def convertir_almacenamiento(valor, unidad_origen, unidad_destino):\n",
        "    conversiones = {\n",
        "        'B': 1,\n",
        "        'KB': 0.001,\n",
        "        'MB': 1e-6,\n",
        "        'GB': 1e-9,\n",
        "        'TB': 1e-12,\n",
        "        'PB': 1e-15,\n",
        "        'EB': 1e-18,\n",
        "        'ZB': 1e-21,\n",
        "        'YB': 1e-24,\n",
        "        'nibble': 0.5\n",
        "    }\n",
        "    bytes = valor / conversiones[unidad_origen]\n",
        "    return bytes * conversiones[unidad_destino]\n",
        "\n",
        "# Funciones de conversión para Tiempo\n",
        "def convertir_tiempo(valor, unidad_origen, unidad_destino):\n",
        "    conversiones = {\n",
        "        's': 1,\n",
        "        'min': 1/60,\n",
        "        'h': 1/3600,\n",
        "        'd': 1/86400,\n",
        "        'wk': 1/604800,\n",
        "        'mo': 1/2592000,\n",
        "        'yr': 1/31536000,\n",
        "        'ms': 1000,\n",
        "        'µs': 1e6,\n",
        "        'ns': 1e9\n",
        "    }\n",
        "    segundos = valor / conversiones[unidad_origen]\n",
        "    return segundos * conversiones[unidad_destino]\n",
        "\n",
        "# Funciones de conversión para Volumen\n",
        "def convertir_volumen(valor, unidad_origen, unidad_destino):\n",
        "    conversiones = {\n",
        "        'L': 1,\n",
        "        'mL': 1000,\n",
        "        'cm³': 1000,\n",
        "        'm³': 0.001,\n",
        "        'gal': 0.264172,\n",
        "        'pt': 2.11338,\n",
        "        'fl oz': 33.814,\n",
        "        'tsp': 202.884,\n",
        "        'tbsp': 67.628,\n",
        "        'bbl': 0.00628981\n",
        "    }\n",
        "    litros = valor / conversiones[unidad_origen]\n",
        "    return litros * conversiones[unidad_destino]\n",
        "\n",
        "# Funciones de conversión para Área\n",
        "def convertir_area(valor, unidad_origen, unidad_destino):\n",
        "    conversiones = {\n",
        "        'm²': 1,\n",
        "        'cm²': 10000,\n",
        "        'km²': 0.000001,\n",
        "        'ha': 0.0001,\n",
        "        'ac': 0.000247105,\n",
        "        'ft²': 10.7639,\n",
        "        'yd²': 1.19599,\n",
        "        'in²': 1550.0031,\n",
        "        'mi²': 3.861e-7,\n",
        "        'a': 0.01\n",
        "    }\n",
        "    metros_cuadrados = valor / conversiones[unidad_origen]\n",
        "    return metros_cuadrados * conversiones[unidad_destino]\n",
        "\n",
        "# Funciones de conversión para Manzanas\n",
        "def convertir_manzanas(valor, unidad_origen, unidad_destino):\n",
        "    conversiones = {\n",
        "        'manzana': 0.0064,\n",
        "        'cuerda': 0.0069,\n",
        "        'ha': 0.01,\n",
        "        'ac': 0.0247105,\n",
        "        'km²': 0.00001,\n",
        "        'm²': 6400,\n",
        "        'ft²': 68814.4,\n",
        "        'yd²': 7680,\n",
        "        'hato': 0.0064,\n",
        "        'tarea': 0.01\n",
        "    }\n",
        "    hectareas = valor / conversiones[unidad_origen]\n",
        "    return hectareas * conversiones[unidad_destino]\n",
        "\n",
        "# Funciones de conversión para Tareas\n",
        "def convertir_tareas(valor, unidad_origen, unidad_destino):\n",
        "    conversiones = {\n",
        "        'min': 1,\n",
        "        'h': 1/60,\n",
        "        'd': 1/1440,\n",
        "        'wk': 1/10080,\n",
        "        'mo': 1/43200,\n",
        "        'yr': 1/525600,\n",
        "        's': 60,\n",
        "        'turno': 1/480,\n",
        "        'reunión': 1/60,\n",
        "        'intervalo': 1/60\n",
        "    }\n",
        "    minutos = valor / conversiones[unidad_origen]\n",
        "    return minutos * conversiones[unidad_destino]\n",
        "\n",
        "# Menú de selección\n",
        "def menu():\n",
        "    print(\"Seleccione la categoría para la conversión:\")\n",
        "    print(\"1. Longitud\")\n",
        "    print(\"2. Masa\")\n",
        "    print(\"3. Almacenamiento\")\n",
        "    print(\"4. Tiempo\")\n",
        "    print(\"5. Volumen\")\n",
        "    print(\"6. Área\")\n",
        "    print(\"7. Manzanas\")\n",
        "    print(\"8. Tareas\")\n",
        "    print(\"9. Salir\")\n",
        "\n",
        "    seleccion = int(input(\"Ingrese el número de la categoría: \"))\n",
        "\n",
        "    if seleccion == 9:\n",
        "        return\n",
        "\n",
        "    if seleccion == 1:\n",
        "        categoria = 'Longitud'\n",
        "        conversion_func = convertir_longitud\n",
        "        unidades = ['m', 'cm', 'mm', 'km', 'in', 'ft', 'yd', 'mi', 'nm', 'nmi']\n",
        "    elif seleccion == 2:\n",
        "        categoria = 'Masa'\n",
        "        conversion_func = convertir_masa\n",
        "        unidades = ['g', 'kg', 'mg', 't', 'lb', 'oz', 'q', 'µg', 'st', 'dal']\n",
        "    elif seleccion == 3:\n",
        "        categoria = 'Almacenamiento'\n",
        "        conversion_func = convertir_almacenamiento\n",
        "        unidades = ['B', 'KB', 'MB', 'GB', 'TB', 'PB', 'EB', 'ZB', 'YB', 'nibble']\n",
        "    elif seleccion == 4:\n",
        "        categoria = 'Tiempo'\n",
        "        conversion_func = convertir_tiempo\n",
        "        unidades = ['s', 'min', 'h', 'd', 'wk', 'mo', 'yr', 'ms', 'µs', 'ns']\n",
        "    elif seleccion == 5:\n",
        "        categoria = 'Volumen'\n",
        "        conversion_func = convertir_volumen\n",
        "        unidades = ['L', 'mL', 'cm³', 'm³', 'gal', 'pt', 'fl oz', 'tsp', 'tbsp', 'bbl']\n",
        "    elif seleccion == 6:\n",
        "        categoria = 'Área'\n",
        "        conversion_func = convertir_area\n",
        "        unidades = ['m²', 'cm²', 'km²', 'ha', 'ac', 'ft²', 'yd²', 'in²', 'mi²', 'a']\n",
        "    elif seleccion == 7:\n",
        "        categoria = 'Manzanas'\n",
        "        conversion_func = convertir_manzanas\n",
        "        unidades = ['manzana', 'cuerda', 'ha', 'ac', 'km²', 'm²', 'ft²', 'yd²', 'hato', 'tarea']\n",
        "    elif seleccion == 8:\n",
        "        categoria = 'Tareas'\n",
        "        conversion_func = convertir_tareas\n",
        "        unidades = ['min', 'h', 'd', 'wk', 'mo', 'yr', 's', 'turno', 'reunión', 'intervalo']\n",
        "    else:\n",
        "        print(\"Selección no válida\")\n",
        "        return\n",
        "\n",
        "    print(f\"\\nCategoría: {categoria}\")\n",
        "    print(\"Unidades disponibles:\")\n",
        "    for i, unidad in enumerate(unidades):\n",
        "        print(f\"{i + 1}. {unidad}\")\n",
        "\n",
        "    origen = int(input(\"\\nSeleccione la unidad de origen: \")) - 1\n",
        "    destino = int(input(\"Seleccione la unidad de destino: \")) - 1\n",
        "\n",
        "    valor = float(input(\"Ingrese el valor a convertir: \"))\n",
        "\n",
        "    resultado = conversion_func(valor, unidades[origen], unidades[destino])\n",
        "    print(f\"\\n{valor} {unidades[origen]} = {resultado} {unidades[destino]}\\n\")\n",
        "\n",
        "# Ejecutar el menú\n",
        "menu()"
      ],
      "metadata": {
        "colab": {
          "base_uri": "https://localhost:8080/"
        },
        "id": "eoCIC9jY0jcK",
        "outputId": "fb7b8b27-a7ab-46dd-b9f6-66aebb40c7a3"
      },
      "execution_count": 1,
      "outputs": [
        {
          "output_type": "stream",
          "name": "stdout",
          "text": [
            "Seleccione la categoría para la conversión:\n",
            "1. Longitud\n",
            "2. Masa\n",
            "3. Almacenamiento\n",
            "4. Tiempo\n",
            "5. Volumen\n",
            "6. Área\n",
            "7. Manzanas\n",
            "8. Tareas\n",
            "9. Salir\n",
            "Ingrese el número de la categoría: 1\n",
            "\n",
            "Categoría: Longitud\n",
            "Unidades disponibles:\n",
            "1. m\n",
            "2. cm\n",
            "3. mm\n",
            "4. km\n",
            "5. in\n",
            "6. ft\n",
            "7. yd\n",
            "8. mi\n",
            "9. nm\n",
            "10. nmi\n",
            "\n",
            "Seleccione la unidad de origen: 4\n",
            "Seleccione la unidad de destino: 1\n",
            "Ingrese el valor a convertir: 15\n",
            "\n",
            "15.0 km = 15000.0 m\n",
            "\n"
          ]
        }
      ]
    },
    {
      "cell_type": "markdown",
      "source": [
        "**ESTRUCTURAS DE CONTROL**\n",
        "**IF**\n",
        "*Ejercicio: Solicitar la edad y realizar la clasificacion*"
      ],
      "metadata": {
        "id": "fSPB5fNhGaoN"
      }
    },
    {
      "cell_type": "markdown",
      "source": [],
      "metadata": {
        "id": "x9GOt_l_Gam-"
      }
    },
    {
      "cell_type": "code",
      "source": [
        "edad = int(input(\"Ingrese su edad: \"))\n",
        "if edad>17:\n",
        "    print(\"Bienvenidos al mundo de las responsabilidad\")"
      ],
      "metadata": {
        "colab": {
          "base_uri": "https://localhost:8080/"
        },
        "id": "zOStYsLAG2j9",
        "outputId": "45af9046-a560-4a3c-eeb9-7fb2c2b8c58e"
      },
      "execution_count": null,
      "outputs": [
        {
          "output_type": "stream",
          "name": "stdout",
          "text": [
            "Ingrese su edad: 20\n",
            "Bienvenidos al mundo de las responsabilidad\n"
          ]
        }
      ]
    },
    {
      "cell_type": "code",
      "source": [
        "continuar = \"s\"\n",
        "while continuar == \"s\":\n",
        " edad = int(input(\"Ingrese su edad: \"))\n",
        " if edad<0:\n",
        "    print(\"Edad Incorrecta\")\n",
        " elif edad<=2:\n",
        "    print(\"Eres un bebe\")\n",
        " elif edad<12:\n",
        "    print(\"Eres un niño\")\n",
        " elif edad<18:\n",
        "    print(\"Eres un adolescente\")\n",
        " elif edad<65:\n",
        "    print(\"Eres un adulto\")\n",
        " elif edad<85:\n",
        "    print(\"Eres un abuelo\")\n",
        " else:\n",
        "    print(\"Larga vida\")\n",
        " continuar = input(\"¿Desea continuar? (Precione S, si en caso quiere salir N): \")"
      ],
      "metadata": {
        "colab": {
          "base_uri": "https://localhost:8080/"
        },
        "collapsed": true,
        "id": "4FLiQfVhHYxv",
        "outputId": "f209a127-2c5e-492b-a832-427c38120b04"
      },
      "execution_count": null,
      "outputs": [
        {
          "name": "stdout",
          "output_type": "stream",
          "text": [
            "Ingrese su edad: 56\n",
            "Eres un adulto\n",
            "¿Desea continuar? (Precione S, si en caso quiere salir N): s\n",
            "Ingrese su edad: 100\n",
            "Larga vida\n",
            "¿Desea continuar? (Precione S, si en caso quiere salir N): s\n",
            "Ingrese su edad: 15\n",
            "Eres un adolescente\n",
            "¿Desea continuar? (Precione S, si en caso quiere salir N): n\n"
          ]
        }
      ]
    },
    {
      "cell_type": "markdown",
      "source": [
        "numero es negativo o positivo"
      ],
      "metadata": {
        "id": "0Xoe-WqcK_0L"
      }
    },
    {
      "cell_type": "code",
      "source": [
        "num = int(input(\"Ingrese un numero: \"))\n",
        "if num>0:\n",
        "    print(\"El numero es positivo\")\n",
        "elif num==0:\n",
        "        print(\"El numero es cero\")\n",
        "else:\n",
        "    print(\"El numero es negativo\")"
      ],
      "metadata": {
        "colab": {
          "base_uri": "https://localhost:8080/"
        },
        "id": "tq8cDJ0qK7Yc",
        "outputId": "3eb57cda-43da-45de-f607-124b403fce0a"
      },
      "execution_count": null,
      "outputs": [
        {
          "output_type": "stream",
          "name": "stdout",
          "text": [
            "Ingrese un numero: 0\n",
            "El numero es cero\n"
          ]
        }
      ]
    },
    {
      "cell_type": "markdown",
      "source": [
        "Solicitar una tabla de multiplicar y generarla"
      ],
      "metadata": {
        "id": "-18BsDxDObni"
      }
    },
    {
      "cell_type": "code",
      "source": [
        "continuar = \"s\"\n",
        "while continuar == \"s\":\n",
        "  tabla = int(input(\"Ingrese la tabla: \"))\n",
        "  for i in range(1,11):\n",
        "    print(tabla, \"x\", i, \"=\", tabla*i)\n",
        "    continuar = input(\"¿Desea continuar? (Precione S, si en caso quiere salir N): \")"
      ],
      "metadata": {
        "colab": {
          "base_uri": "https://localhost:8080/"
        },
        "collapsed": true,
        "id": "BMhmC6cWOnFi",
        "outputId": "39ab660b-11f5-470c-be37-59b50c51cf24"
      },
      "execution_count": null,
      "outputs": [
        {
          "name": "stdout",
          "output_type": "stream",
          "text": [
            "Ingrese la tabla: 6\n",
            "6 x 1 = 6\n",
            "¿Desea continuar? (Precione S, si en caso quiere salir N): H\n",
            "6 x 2 = 12\n",
            "¿Desea continuar? (Precione S, si en caso quiere salir N): X\n",
            "6 x 3 = 18\n",
            "¿Desea continuar? (Precione S, si en caso quiere salir N): N\n",
            "6 x 4 = 24\n",
            "¿Desea continuar? (Precione S, si en caso quiere salir N): n\n",
            "6 x 5 = 30\n",
            "¿Desea continuar? (Precione S, si en caso quiere salir N): \n",
            "6 x 6 = 36\n",
            "¿Desea continuar? (Precione S, si en caso quiere salir N): \n",
            "6 x 7 = 42\n",
            "¿Desea continuar? (Precione S, si en caso quiere salir N): \n",
            "6 x 8 = 48\n",
            "¿Desea continuar? (Precione S, si en caso quiere salir N): \n",
            "6 x 9 = 54\n",
            "¿Desea continuar? (Precione S, si en caso quiere salir N): \n",
            "6 x 10 = 60\n",
            "¿Desea continuar? (Precione S, si en caso quiere salir N): \n"
          ]
        }
      ]
    }
  ]
}