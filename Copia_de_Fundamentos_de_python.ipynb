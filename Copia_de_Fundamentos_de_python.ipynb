{
  "nbformat": 4,
  "nbformat_minor": 0,
  "metadata": {
    "colab": {
      "provenance": [],
      "authorship_tag": "ABX9TyNkyiM6brBfCXbYZnWTvG+x",
      "include_colab_link": true
    },
    "kernelspec": {
      "name": "python3",
      "display_name": "Python 3"
    },
    "language_info": {
      "name": "python"
    }
  },
  "cells": [
    {
      "cell_type": "markdown",
      "metadata": {
        "id": "view-in-github",
        "colab_type": "text"
      },
      "source": [
        "<a href=\"https://colab.research.google.com/github/josejimenez20/Android_Studio_Ciclo_III/blob/main/Copia_de_Fundamentos_de_python.ipynb\" target=\"_parent\"><img src=\"https://colab.research.google.com/assets/colab-badge.svg\" alt=\"Open In Colab\"/></a>"
      ]
    },
    {
      "cell_type": "code",
      "execution_count": null,
      "metadata": {
        "colab": {
          "base_uri": "https://localhost:8080/"
        },
        "collapsed": true,
        "id": "k9kNAAsY5NW-",
        "outputId": "f82a0b29-97da-4586-9a9b-4d078f2fc754"
      },
      "outputs": [
        {
          "output_type": "stream",
          "name": "stdout",
          "text": [
            "Hola Mundo\n",
            "Hola  Jose Jimenez , inicial:  J J\n"
          ]
        }
      ],
      "source": [
        "print(\"Hola Mundo\")\n",
        "Nombre = \"Jose Jimenez\"\n",
        "\n",
        "\n",
        "print(\"Hola \", Nombre, \", inicial: \", Nombre[0], Nombre[5])"
      ]
    },
    {
      "cell_type": "markdown",
      "source": [
        "EJERCICIO, crear un programa en python que sume dos numeros"
      ],
      "metadata": {
        "id": "44_ljq_V9wRG"
      }
    },
    {
      "cell_type": "code",
      "source": [
        "num1 = 5\n",
        "num2 = 9.5\n",
        "resp = num1 + num2\n",
        "print(\"la suma es:\", resp)\n"
      ],
      "metadata": {
        "colab": {
          "base_uri": "https://localhost:8080/"
        },
        "collapsed": true,
        "id": "BSCZbvt29-QY",
        "outputId": "5dbaddbb-30e1-4349-aa1a-3355ddebf446"
      },
      "execution_count": null,
      "outputs": [
        {
          "output_type": "stream",
          "name": "stdout",
          "text": [
            "la suma es: 14.5\n"
          ]
        }
      ]
    },
    {
      "cell_type": "markdown",
      "source": [],
      "metadata": {
        "id": "BBn-VkFV9wNt"
      }
    },
    {
      "cell_type": "markdown",
      "source": [
        "EJERCICIO, Crear un programa en python que sume dos numeros introducidos por el usuario"
      ],
      "metadata": {
        "id": "8R2mH-dM_i2H"
      }
    },
    {
      "cell_type": "code",
      "source": [
        "print(\"Num1\")\n",
        "Num1 = float(input())\n",
        "\n",
        "print(\"Num2\")\n",
        "Num2 = float(input())\n",
        "\n",
        "resp = Num1 + Num2\n",
        "print(\"la suma es:\", resp)\n"
      ],
      "metadata": {
        "colab": {
          "base_uri": "https://localhost:8080/"
        },
        "collapsed": true,
        "id": "VXcYAQ84_5CA",
        "outputId": "7c84a128-17b3-4a6a-ecc7-13b9bfd9e3af"
      },
      "execution_count": null,
      "outputs": [
        {
          "output_type": "stream",
          "name": "stdout",
          "text": [
            "Num1\n",
            "10\n",
            "Num2\n",
            "10\n",
            "la suma es: 20.0\n"
          ]
        }
      ]
    },
    {
      "cell_type": "code",
      "source": [
        "#Tipos de datos\n",
        "num1 = 5\n",
        "num2 = 5.9\n",
        "nombre = \"Jose Jimenez\"\n",
        "print(nombre[0:4], nombre[:4], nombre[-1], nombre[5:], nombre[5:len(nombre)])\n",
        "\n",
        "estado = True\n",
        "print(estado)\n",
        "\n",
        "print(type(nombre), type(num1), type(num2), type(estado))\n"
      ],
      "metadata": {
        "colab": {
          "base_uri": "https://localhost:8080/"
        },
        "collapsed": true,
        "id": "8W8fyP3EC29r",
        "outputId": "cc57b1de-fbd3-4067-e181-a3c9516ac676"
      },
      "execution_count": null,
      "outputs": [
        {
          "output_type": "stream",
          "name": "stdout",
          "text": [
            "Jose Jose z Jimenez Jimenez\n",
            "True\n",
            "<class 'str'> <class 'int'> <class 'float'> <class 'bool'>\n"
          ]
        }
      ]
    },
    {
      "cell_type": "markdown",
      "source": [
        "EJERCICIO, cree un programa en python que lea un numero y dertermine si es par o impar"
      ],
      "metadata": {
        "id": "0p0Xz6wLEy1R"
      }
    },
    {
      "cell_type": "code",
      "source": [
        "num = int(input(\"Ingrese un numero: \"))\n",
        "if num % 2 == 0:\n",
        "    print(\"El numero es par\" , num)\n",
        "else:\n",
        "    print(\"El numero es impar\")"
      ],
      "metadata": {
        "colab": {
          "base_uri": "https://localhost:8080/"
        },
        "collapsed": true,
        "id": "0j4ljacIFGo-",
        "outputId": "5ce81487-9a25-47be-a14f-5783d853d67c"
      },
      "execution_count": null,
      "outputs": [
        {
          "output_type": "stream",
          "name": "stdout",
          "text": [
            "Ingrese un numero: 5\n",
            "El numero es impar\n"
          ]
        }
      ]
    },
    {
      "cell_type": "markdown",
      "source": [
        "EJERCICIO: Uso de las funciones de usuario, con la suma de dos numeros."
      ],
      "metadata": {
        "id": "3O5iadWIjS1H"
      }
    },
    {
      "cell_type": "code",
      "source": [
        "def suma(num1, num2):\n",
        "    return num1 + num2\n",
        "\n",
        "num1 = float(input(\"Num 1: \"))\n",
        "num2 = float(input(\"Num 2: \"))\n",
        "resp = suma(num1, num2)\n",
        "print(\"La suma es: \", resp)\n"
      ],
      "metadata": {
        "id": "sH6B5vi4a3MU",
        "collapsed": true,
        "colab": {
          "base_uri": "https://localhost:8080/"
        },
        "outputId": "34b82dbe-d2d2-4807-f56b-8a65a9517649"
      },
      "execution_count": null,
      "outputs": [
        {
          "output_type": "stream",
          "name": "stdout",
          "text": [
            "Num 1: 1\n",
            "Num 2: 1\n",
            "La suma es:  2.0\n"
          ]
        }
      ]
    },
    {
      "cell_type": "markdown",
      "source": [
        "EJERCICIO: Coonvertir grados celsius a farenheit, usando funciones de usuario."
      ],
      "metadata": {
        "id": "IL81eFXmm223"
      }
    },
    {
      "cell_type": "code",
      "source": [
        "def convertir_cf(c):\n",
        "    return c * 1.8 + 32\n",
        "\n",
        "c = float(input(\"Celsius: \"))\n",
        "print(\"F: \", convertir_cf(c))\n"
      ],
      "metadata": {
        "colab": {
          "base_uri": "https://localhost:8080/"
        },
        "id": "GYnD7YBam3qd",
        "outputId": "0c5a32e4-1d5f-412f-ed9e-8f8a62ae5193"
      },
      "execution_count": null,
      "outputs": [
        {
          "output_type": "stream",
          "name": "stdout",
          "text": [
            "Celsius: 5\n",
            "F:  41.0\n"
          ]
        }
      ]
    },
    {
      "cell_type": "markdown",
      "source": [
        "EJERCICIO: Determina si un numero es par o impar"
      ],
      "metadata": {
        "id": "Mu1Wae3om_F0"
      }
    },
    {
      "cell_type": "code",
      "source": [
        "def parImpar(num):\n",
        "    if num % 2 == 0:\n",
        "        return \"par\"\n",
        "    return \"impar\"\n",
        "\n",
        "num = int(input(\"Num: \"))\n",
        "print(\"El número\", num, \"es:\", parImpar(num))\n"
      ],
      "metadata": {
        "colab": {
          "base_uri": "https://localhost:8080/"
        },
        "id": "1VHRNZOxnAu3",
        "outputId": "8eb3e106-6da2-4298-e4e1-eb495191884b"
      },
      "execution_count": null,
      "outputs": [
        {
          "output_type": "stream",
          "name": "stdout",
          "text": [
            "Num: 7\n",
            "El número 7 es: impar\n"
          ]
        }
      ]
    },
    {
      "cell_type": "markdown",
      "source": [
        "Tarea para MIERCOLES\n",
        "Convertir grados Fahrenheit a Celsius"
      ],
      "metadata": {
        "id": "OjXhHu244X2I"
      }
    },
    {
      "cell_type": "code",
      "source": [
        "def convertir_fc(f):\n",
        "    return (f - 32) / 1.8\n",
        "\n",
        "f = float(input(\"Fahrenheit: \"))\n",
        "print(\"Celsius: \", convertir_fc(f))\n"
      ],
      "metadata": {
        "colab": {
          "base_uri": "https://localhost:8080/"
        },
        "id": "cv3YQKQi408j",
        "outputId": "7e26f033-c172-4018-c6e4-daed5c521218"
      },
      "execution_count": null,
      "outputs": [
        {
          "output_type": "stream",
          "name": "stdout",
          "text": [
            "Fahrenheit: 5\n",
            "Celsius:  -15.0\n"
          ]
        }
      ]
    },
    {
      "cell_type": "markdown",
      "source": [
        "Convertir grados [Celsius y Fahrenheit] a Kelvin"
      ],
      "metadata": {
        "id": "0daMwIDX5Rqg"
      }
    },
    {
      "cell_type": "code",
      "source": [
        "# Función para convertir grados Fahrenheit a Celsius\n",
        "def convertir_fc(f):\n",
        "    return (f - 32) / 1.8\n",
        "\n",
        "# Función para convertir grados Celsius a Kelvin\n",
        "def convertir_ck(c):\n",
        "    return c + 273.15\n",
        "\n",
        "# Función para convertir grados Fahrenheit a Kelvin\n",
        "def convertir_fk(f):\n",
        "    return (f - 32) / 1.8 + 273.15\n",
        "\n",
        "# Solicitar al usuario ingresar grados Fahrenheit y Celsius\n",
        "f = float(input(\"Ingrese grados Fahrenheit: \"))\n",
        "c = float(input(\"Ingrese grados Celsius: \"))\n",
        "\n",
        "# Convertir y mostrar los resultados\n",
        "print(\"Celsius desde Fahrenheit: \", convertir_fc(f))\n",
        "print(\"Kelvin desde Celsius: \", convertir_ck(c))\n",
        "print(\"Kelvin desde Fahrenheit: \", convertir_fk(f))\n"
      ],
      "metadata": {
        "id": "2vBv3M2T60Kp",
        "outputId": "49afd275-5f12-4e9b-9188-2e02ba7c6018",
        "colab": {
          "base_uri": "https://localhost:8080/"
        }
      },
      "execution_count": null,
      "outputs": [
        {
          "output_type": "stream",
          "name": "stdout",
          "text": [
            "Ingrese grados Fahrenheit: 1\n",
            "Ingrese grados Celsius: 5\n",
            "Celsius desde Fahrenheit:  -17.22222222222222\n",
            "Kelvin desde Celsius:  278.15\n",
            "Kelvin desde Fahrenheit:  255.92777777777775\n"
          ]
        }
      ]
    },
    {
      "cell_type": "markdown",
      "source": [
        "EJERCICIO: Calcular el sueldo de un trabajador"
      ],
      "metadata": {
        "id": "GZzYvj795gL2"
      }
    },
    {
      "cell_type": "code",
      "source": [
        "def sueldo(numHrs, valorXHrs):\n",
        "    sueldo = numHrs * valorXHrs * 30\n",
        "    if numHrs > 8:\n",
        "        sueldo = sueldo + (numHrs - 8) * valorXHrs * 30 * 0.5\n",
        "    return sueldo\n",
        "\n",
        "numHrs = int(input(\"Horas: \"))\n",
        "valorXHrs = float(input(\"Valor: \"))\n",
        "print(\"Sueldo: \", sueldo(numHrs, valorXHrs))\n"
      ],
      "metadata": {
        "colab": {
          "base_uri": "https://localhost:8080/"
        },
        "id": "cxpCi6EO5i8o",
        "outputId": "3902d2f1-71f4-4e8f-9baa-3f34726aa12a"
      },
      "execution_count": null,
      "outputs": [
        {
          "output_type": "stream",
          "name": "stdout",
          "text": [
            "Horas: 15\n",
            "Valor: 5\n",
            "Sueldo:  2775.0\n"
          ]
        }
      ]
    },
    {
      "cell_type": "markdown",
      "source": [
        "Ejercicio: Elevar un numero al cuadro"
      ],
      "metadata": {
        "id": "lm1RcTgZ7Guk"
      }
    },
    {
      "cell_type": "code",
      "source": [
        "def elevarCuadrado(base,exponente):\n",
        "  return base**exponente"
      ],
      "metadata": {
        "id": "WpGYC5zc8JpE"
      },
      "execution_count": 4,
      "outputs": []
    },
    {
      "cell_type": "code",
      "source": [
        "def elevarCuadrado(base, exponente):\n",
        "    return base**exponente\n",
        "\n",
        "num = int(input(\"Num: \"))\n",
        "print(\"Cuadrado: \", elevarCuadrado(num, 3))\n"
      ],
      "metadata": {
        "colab": {
          "base_uri": "https://localhost:8080/"
        },
        "id": "W2JkA0I-7Ph3",
        "outputId": "32888ff2-d1d7-425b-f157-3e35e9ab1996"
      },
      "execution_count": 9,
      "outputs": [
        {
          "output_type": "stream",
          "name": "stdout",
          "text": [
            "Num: 3\n",
            "Cuadrado:  27\n"
          ]
        }
      ]
    },
    {
      "cell_type": "markdown",
      "source": [
        "Usando funciones lambra"
      ],
      "metadata": {
        "id": "kxDYzbN19hSs"
      }
    },
    {
      "cell_type": "code",
      "source": [
        "elevarCuadradoLambda = lambda base, exponente: base**exponente"
      ],
      "metadata": {
        "id": "9VjIfqOa9nS4"
      },
      "execution_count": 10,
      "outputs": []
    },
    {
      "cell_type": "code",
      "source": [
        "valor = int(input(\"Num:\"))\n",
        "print(\"Cuadrado: \", elevarCuadradoLambda(valor, 2))"
      ],
      "metadata": {
        "colab": {
          "base_uri": "https://localhost:8080/"
        },
        "id": "KgExgce29-AR",
        "outputId": "d7cf9275-d92e-4856-ad2c-51a8ab3d3780"
      },
      "execution_count": 11,
      "outputs": [
        {
          "output_type": "stream",
          "name": "stdout",
          "text": [
            "Num:3\n",
            "Cuadrado:  9\n"
          ]
        }
      ]
    },
    {
      "cell_type": "code",
      "source": [
        "serie = [5,4,2,6,7]\n",
        "resp = map(lambda x: x**2, serie)\n",
        "print(list(resp))"
      ],
      "metadata": {
        "colab": {
          "base_uri": "https://localhost:8080/"
        },
        "id": "4oRZv51N_z5n",
        "outputId": "529f20de-65b3-4fa4-8aa5-dd77c90d671c"
      },
      "execution_count": 12,
      "outputs": [
        {
          "output_type": "stream",
          "name": "stdout",
          "text": [
            "[25, 16, 4, 36, 49]\n"
          ]
        }
      ]
    },
    {
      "cell_type": "markdown",
      "source": [
        "EJERCICIO: Obtener la raiz cuadrada de una serie de numeros"
      ],
      "metadata": {
        "id": "B9ydAVixC1db"
      }
    },
    {
      "cell_type": "code",
      "source": [
        "import math\n",
        "def obtenerRaizCuadrada(lista_numeros):\n",
        "    return [math.sqrt(num) for num in lista_numeros]\n",
        "\n",
        "numeros = input(\"Introduce una serie de números separados por comas: \")\n",
        "numeros_lista = [float(num) for num in numeros.split(\",\")]\n",
        "\n",
        "raices = obtenerRaizCuadrada(numeros_lista)\n",
        "print(\"Las raíces cuadradas son: \", raices)\n"
      ],
      "metadata": {
        "colab": {
          "base_uri": "https://localhost:8080/"
        },
        "id": "3mUsY2T1DKvE",
        "outputId": "23f7eb41-357e-45fb-caba-24423b5b7a83"
      },
      "execution_count": 13,
      "outputs": [
        {
          "output_type": "stream",
          "name": "stdout",
          "text": [
            "Introduce una serie de números separados por comas: 5,6,8,4,7,1,2,3\n",
            "Las raíces cuadradas son:  [2.23606797749979, 2.449489742783178, 2.8284271247461903, 2.0, 2.6457513110645907, 1.0, 1.4142135623730951, 1.7320508075688772]\n"
          ]
        }
      ]
    }
  ]
}